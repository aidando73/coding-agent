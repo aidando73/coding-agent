{
 "cells": [
  {
   "cell_type": "code",
   "execution_count": 2,
   "metadata": {},
   "outputs": [
    {
     "name": "stderr",
     "output_type": "stream",
     "text": [
      "/Users/aidand/dev/l2-llama/env/lib/python3.10/site-packages/tqdm/auto.py:21: TqdmWarning: IProgress not found. Please update jupyter and ipywidgets. See https://ipywidgets.readthedocs.io/en/stable/user_install.html\n",
      "  from .autonotebook import tqdm as notebook_tqdm\n"
     ]
    }
   ],
   "source": [
    "from datasets import load_dataset\n",
    "import pandas as pd\n",
    "\n",
    "swebench = load_dataset('princeton-nlp/SWE-bench_Lite', split='test')\n",
    "\n",
    "df = swebench.to_pandas()"
   ]
  },
  {
   "cell_type": "code",
   "execution_count": 4,
   "metadata": {},
   "outputs": [],
   "source": [
    "import os\n",
    "# Get all patch files from the dataset\n",
    "SCRIPT_DIR = os.path.dirname(os.path.abspath(__file__))\n",
    "for i, row in df.iterrows():\n",
    "    patch_file = os.path.join(SCRIPT_DIR, f'{row[\"instance_id\"]}.diff')\n",
    "    with open(patch_file, 'w') as f:\n",
    "        f.write(row['patch'])"
   ]
  },
  {
   "cell_type": "code",
   "execution_count": 18,
   "metadata": {},
   "outputs": [
    {
     "name": "stdout",
     "output_type": "stream",
     "text": [
      "Number of patches that only add code: 77\n",
      "Number of standalone additions: 233\n",
      "Number of patches with standalone additions: 167\n",
      "Patches with standalone additions: ['astropy__astropy-14182', 'astropy__astropy-7746', 'django__django-11019', 'django__django-11179', 'django__django-11283', 'django__django-11564', 'django__django-11583', 'django__django-11630', 'django__django-11742', 'django__django-11905', 'django__django-11910', 'django__django-12113', 'django__django-12184', 'django__django-12286', 'django__django-12308', 'django__django-12453', 'django__django-12589', 'django__django-12700', 'django__django-12856', 'django__django-12908', 'django__django-12915', 'django__django-13158', 'django__django-13220', 'django__django-13230', 'django__django-13265', 'django__django-13315', 'django__django-13321', 'django__django-13401', 'django__django-13447', 'django__django-13448', 'django__django-13590', 'django__django-13710', 'django__django-13757', 'django__django-13768', 'django__django-13925', 'django__django-14382', 'django__django-14411', 'django__django-14730', 'django__django-14752', 'django__django-14915', 'django__django-14999', 'django__django-15202', 'django__django-15213', 'django__django-15388', 'django__django-15400', 'django__django-15498', 'django__django-15695', 'django__django-15781', 'django__django-15814', 'django__django-15819', 'django__django-15851', 'django__django-15902', 'django__django-15996', 'django__django-16046', 'django__django-16229', 'django__django-16408', 'django__django-16820', 'django__django-17051', 'matplotlib__matplotlib-18869', 'matplotlib__matplotlib-22711', 'matplotlib__matplotlib-22835', 'matplotlib__matplotlib-23299', 'matplotlib__matplotlib-23314', 'matplotlib__matplotlib-23476', 'matplotlib__matplotlib-23562', 'matplotlib__matplotlib-23563', 'matplotlib__matplotlib-23913', 'matplotlib__matplotlib-23987', 'matplotlib__matplotlib-24149', 'matplotlib__matplotlib-24265', 'matplotlib__matplotlib-24334', 'matplotlib__matplotlib-25311', 'matplotlib__matplotlib-25332', 'matplotlib__matplotlib-25433', 'matplotlib__matplotlib-25442', 'matplotlib__matplotlib-25498', 'matplotlib__matplotlib-26020', 'mwaskom__seaborn-2848', 'pallets__flask-4045', 'pallets__flask-4992', 'pallets__flask-5063', 'psf__requests-1963', 'psf__requests-2148', 'psf__requests-2674', 'psf__requests-3362', 'pydata__xarray-4248', 'pydata__xarray-4493', 'pylint-dev__pylint-7080', 'pylint-dev__pylint-7228', 'pytest-dev__pytest-11143', 'pytest-dev__pytest-11148', 'pytest-dev__pytest-5103', 'pytest-dev__pytest-5221', 'pytest-dev__pytest-5495', 'pytest-dev__pytest-5692', 'pytest-dev__pytest-6116', 'pytest-dev__pytest-7220', 'pytest-dev__pytest-7490', 'pytest-dev__pytest-9359', 'scikit-learn__scikit-learn-10297', 'scikit-learn__scikit-learn-10508', 'scikit-learn__scikit-learn-10949', 'scikit-learn__scikit-learn-11040', 'scikit-learn__scikit-learn-11281', 'scikit-learn__scikit-learn-13142', 'scikit-learn__scikit-learn-13241', 'scikit-learn__scikit-learn-13439', 'scikit-learn__scikit-learn-13496', 'scikit-learn__scikit-learn-13779', 'scikit-learn__scikit-learn-14092', 'scikit-learn__scikit-learn-14983', 'scikit-learn__scikit-learn-15512', 'scikit-learn__scikit-learn-25500', 'scikit-learn__scikit-learn-25638', 'sphinx-doc__sphinx-10325', 'sphinx-doc__sphinx-10451', 'sphinx-doc__sphinx-11445', 'sphinx-doc__sphinx-7686', 'sphinx-doc__sphinx-7975', 'sphinx-doc__sphinx-8273', 'sphinx-doc__sphinx-8506', 'sphinx-doc__sphinx-8627', 'sphinx-doc__sphinx-8721', 'sphinx-doc__sphinx-8801', 'sympy__sympy-11400', 'sympy__sympy-11870', 'sympy__sympy-11897', 'sympy__sympy-12171', 'sympy__sympy-12419', 'sympy__sympy-13437', 'sympy__sympy-13471', 'sympy__sympy-13773', 'sympy__sympy-13895', 'sympy__sympy-13915', 'sympy__sympy-14308', 'sympy__sympy-14396', 'sympy__sympy-15308', 'sympy__sympy-15345', 'sympy__sympy-15346', 'sympy__sympy-15678', 'sympy__sympy-16106', 'sympy__sympy-16792', 'sympy__sympy-17022', 'sympy__sympy-17139', 'sympy__sympy-17630', 'sympy__sympy-17655', 'sympy__sympy-18087', 'sympy__sympy-18199', 'sympy__sympy-18532', 'sympy__sympy-18698', 'sympy__sympy-18835', 'sympy__sympy-19007', 'sympy__sympy-19254', 'sympy__sympy-19487', 'sympy__sympy-20049', 'sympy__sympy-20212', 'sympy__sympy-20322', 'sympy__sympy-20442', 'sympy__sympy-20590', 'sympy__sympy-21055', 'sympy__sympy-21171', 'sympy__sympy-21379', 'sympy__sympy-21614', 'sympy__sympy-21627', 'sympy__sympy-22005', 'sympy__sympy-22840', 'sympy__sympy-23117']\n",
      "\n",
      "Number of patches that only delete code: 1\n",
      "Number of standalone deletions: 34\n",
      "Number of patches with standalone deletions: 31\n",
      "Patches with standalone deletions: ['astropy__astropy-14182', 'django__django-13265', 'django__django-13710', 'django__django-14016', 'django__django-14382', 'django__django-15781', 'django__django-15851', 'matplotlib__matplotlib-23987', 'matplotlib__matplotlib-25311', 'matplotlib__matplotlib-25442', 'matplotlib__matplotlib-25498', 'pallets__flask-5063', 'psf__requests-3362', 'pydata__xarray-3364', 'pytest-dev__pytest-5413', 'pytest-dev__pytest-5495', 'pytest-dev__pytest-7373', 'pytest-dev__pytest-7490', 'scikit-learn__scikit-learn-13142', 'scikit-learn__scikit-learn-25500', 'scikit-learn__scikit-learn-25747', 'sphinx-doc__sphinx-11445', 'sphinx-doc__sphinx-8801', 'sympy__sympy-12419', 'sympy__sympy-13895', 'sympy__sympy-15011', 'sympy__sympy-15346', 'sympy__sympy-16792', 'sympy__sympy-18199', 'sympy__sympy-20154', 'sympy__sympy-20322']\n"
     ]
    }
   ],
   "source": [
    "import re\n",
    "\n",
    "addition_only_count = 0\n",
    "deletion_only_count = 0\n",
    "standalone_additions_count = 0\n",
    "standalone_deletions_count = 0\n",
    "patches_with_standalone_additions = []\n",
    "patches_with_standalone_deletions = []\n",
    "for i, row in df.iterrows():\n",
    "    patch = row['patch']\n",
    "    \n",
    "    # Split into diff sections\n",
    "    diff_sections = re.split(r'diff --git', patch)[1:]  # Skip first empty section\n",
    "    \n",
    "    # Check if any section has deletions\n",
    "    has_deletions = False\n",
    "    for section in diff_sections:\n",
    "        # Look for lines starting with - that aren't file headers (---) \n",
    "        deletion_lines = [line for line in section.split('\\n') if line.startswith('-') and not line.startswith('---')]\n",
    "        if deletion_lines:\n",
    "            has_deletions = True\n",
    "            break\n",
    "    \n",
    "    has_additions = False\n",
    "    for section in diff_sections:\n",
    "        lines = section.split('\\n')\n",
    "        # Skip first three lines as they are file headers\n",
    "        lines = lines[3:]\n",
    "        if any(line.startswith('+') for line in lines):\n",
    "            has_additions = True\n",
    "            break\n",
    "\n",
    "    # Check if any section has standalone additions (not part of modifications)\n",
    "    has_standalone_additions = False\n",
    "    for section in diff_sections:\n",
    "        lines = section.split('\\n')\n",
    "        # Skip first three lines as they are file headers\n",
    "        lines = lines[3:]\n",
    "        # Transform the lines into a sequence of +, -, or \" \"\n",
    "        # Representing addition, deletion, or no change\n",
    "        add_or_mod = \"\"\n",
    "        for line in lines:\n",
    "            if line.startswith('+'):\n",
    "                add_or_mod += \"+\"\n",
    "            elif line.startswith('-'):\n",
    "                add_or_mod += \"-\"\n",
    "            else:\n",
    "                add_or_mod += \" \"\n",
    "\n",
    "        # Then use regex to check how many standalone +s there are\n",
    "        standalone_additions = len(re.findall(r'(?:^| )\\++(?:$| )', add_or_mod))\n",
    "        standalone_additions_count += standalone_additions\n",
    "\n",
    "        standalone_deletions = len(re.findall(r'(?:^| )\\-+(?:$| )', add_or_mod))\n",
    "        standalone_deletions_count += standalone_deletions\n",
    "    \n",
    "    if standalone_additions > 0:\n",
    "        patches_with_standalone_additions.append(row['instance_id'])\n",
    "\n",
    "    if standalone_deletions > 0:\n",
    "        patches_with_standalone_deletions.append(row['instance_id'])\n",
    "\n",
    "    if not has_deletions:\n",
    "        addition_only_count += 1\n",
    "    if not has_additions:\n",
    "        deletion_only_count += 1\n",
    "\n",
    "print(f\"Number of patches that only add code: {addition_only_count}\")\n",
    "print(f\"Number of standalone additions: {standalone_additions_count}\")\n",
    "print(f\"Number of patches with standalone additions: {len(patches_with_standalone_additions)}\")\n",
    "print(f\"Patches with standalone additions: {patches_with_standalone_additions}\")\n",
    "print()\n",
    "print(f\"Number of patches that only delete code: {deletion_only_count}\")\n",
    "print(f\"Number of standalone deletions: {standalone_deletions_count}\")\n",
    "print(f\"Number of patches with standalone deletions: {len(patches_with_standalone_deletions)}\")\n",
    "print(f\"Patches with standalone deletions: {patches_with_standalone_deletions}\")\n"
   ]
  },
  {
   "cell_type": "code",
   "execution_count": 22,
   "metadata": {},
   "outputs": [
    {
     "name": "stdout",
     "output_type": "stream",
     "text": [
      "Average number of files edited: 1.0\n",
      "Max number of files edited: 1\n",
      "Min number of files edited: 1\n"
     ]
    }
   ],
   "source": [
    "import numpy as np\n",
    "\n",
    "num_files_edited = []\n",
    "for i, row in df.iterrows():\n",
    "    gold_patch = row['patch']\n",
    "    diff_pattern = r\"diff --git a/.* b/(.*)\"\n",
    "    gold_files = re.findall(diff_pattern, gold_patch)\n",
    "    num_files_edited.append(len(gold_files))\n",
    "\n",
    "print(f\"Average number of files edited: {np.mean(num_files_edited)}\")\n",
    "print(f\"Max number of files edited: {np.max(num_files_edited)}\")\n",
    "print(f\"Min number of files edited: {np.min(num_files_edited)}\")"
   ]
  }
 ],
 "metadata": {
  "kernelspec": {
   "display_name": "Python 3",
   "language": "python",
   "name": "python3"
  },
  "language_info": {
   "codemirror_mode": {
    "name": "ipython",
    "version": 3
   },
   "file_extension": ".py",
   "mimetype": "text/x-python",
   "name": "python",
   "nbconvert_exporter": "python",
   "pygments_lexer": "ipython3",
   "version": "3.10.16"
  }
 },
 "nbformat": 4,
 "nbformat_minor": 2
}
