{
 "cells": [
  {
   "cell_type": "code",
   "execution_count": 21,
   "metadata": {},
   "outputs": [],
   "source": [
    "from diff_match_patch import diff_match_patch\n",
    "\n",
    "def fuzzy_match(search, replace, file_content):\n",
    "    dmp = diff_match_patch()\n",
    "    # Source: https://github.com/Aider-AI/aider/blob/4251e976b3aa52c2a3af08da4b203d4d524c8e92/aider/coders/search_replace.py#L280C1-L293\n",
    "    dmp.Diff_Timeout = 5\n",
    "    dmp.Match_Threshold = 0.95\n",
    "    dmp.Match_Distance = 500\n",
    "    dmp.Match_MaxBits = 128\n",
    "    dmp.Patch_Margin = 32\n",
    "\n",
    "    diff = dmp.diff_main(search, replace, None)\n",
    "    dmp.diff_cleanupSemantic(diff)\n",
    "    dmp.diff_cleanupEfficiency(diff)\n",
    "\n",
    "    patches = dmp.patch_make(search, diff)\n",
    "\n",
    "    new_content, success = dmp.patch_apply(patches, file_content)\n",
    "    all_success = success and all(success)\n",
    "    print(\"Fuzzy match success: \" + str(all_success))\n",
    "    print(new_content)\n"
   ]
  },
  {
   "cell_type": "code",
   "execution_count": 22,
   "metadata": {},
   "outputs": [
    {
     "name": "stdout",
     "output_type": "stream",
     "text": [
      "Fuzzy match success: True\n",
      "\n",
      "class Foo:\n",
      "    def foo(self, x, y=0):\n",
      "        return x + 1\n",
      "    \n",
      "    def bar(self, x):\n",
      "        if x > 10:\n",
      "            return x + 2\n",
      "        else:\n",
      "            return x + 3\n",
      "\n"
     ]
    }
   ],
   "source": [
    "file_content = \"\"\"\n",
    "class Foo:\n",
    "    def foo(self, x):\n",
    "        return x + 1\n",
    "    \n",
    "    def bar(self, x):\n",
    "        if x > 10:\n",
    "            return x + 2\n",
    "        else:\n",
    "            return x + 3\n",
    "\"\"\"\n",
    "# Test case 1: Simple method signature change\n",
    "search = \"def foo(self, x):\"\n",
    "replace = \"def foo(self, x, y=0):\"\n",
    "\n",
    "\n",
    "fuzzy_match(search, replace, file_content)"
   ]
  },
  {
   "cell_type": "code",
   "execution_count": 25,
   "metadata": {},
   "outputs": [
    {
     "name": "stdout",
     "output_type": "stream",
     "text": [
      "Fuzzy match success: True\n",
      "\n",
      "class Foo:\n",
      "    def  foo(self,xx):\n",
      "        return x + 1\n",
      "    \n",
      "    def bar(self, x):\n",
      "        if x > 10:\n",
      "            return x + 2\n",
      "        else:\n",
      "            return x + 3\n",
      "\n"
     ]
    }
   ],
   "source": [
    "# Test case 2: Fuzzy whitespace differences\n",
    "search = \"def foo(self, x  ):\"\n",
    "replace = \"def  foo(self,x ):\"\n",
    "fuzzy_match(search, replace, file_content)"
   ]
  },
  {
   "cell_type": "code",
   "execution_count": 27,
   "metadata": {},
   "outputs": [
    {
     "name": "stdout",
     "output_type": "stream",
     "text": [
      "Fuzzy match success: True\n",
      "\n",
      "class Foo:\n",
      "    def foo(self, x):\n",
      "        return x + 1\n",
      "    \n",
      "    def bar(self, x):\n",
      "        if x > 10:\n",
      "            return x + 2\n",
      "        else:\n",
      "            return x * 3\n",
      "\n",
      "            # Multiply instead of add\n"
     ]
    }
   ],
   "source": [
    "# Test case 3: Multi-line method change with indentation differences\n",
    "search = \"\"\"def bar(self, x):\n",
    "        if x > 10:\n",
    "            return x + 2\"\"\"\n",
    "replace = \"\"\"def bar(self, x):\n",
    "        if x > 10:\n",
    "            return x * 2\n",
    "            # Multiply instead of add\"\"\"\n",
    "fuzzy_match(search, replace, file_content)\n",
    "\n",
    "\n"
   ]
  },
  {
   "cell_type": "code",
   "execution_count": 29,
   "metadata": {},
   "outputs": [
    {
     "name": "stdout",
     "output_type": "stream",
     "text": [
      "Fuzzy match success: True\n",
      "\n",
      "class Foo:\n",
      "    def foo(self, x):\n",
      "        return x + 1\n",
      "    \n",
      "    def bar(self, x):\n",
      "        if x > 10:\n",
      "            return x + 2\n",
      "        else:\n",
      "            return x + 3\n",
      "\n",
      "            # Extra comment\n"
     ]
    }
   ],
   "source": [
    "\n",
    "# Test case 4: Multi-line with extra whitespace and newlines\n",
    "search = \"\"\"    def bar(self, x):\n",
    "\n",
    "        if x > 10:\n",
    "            return x + 2\n",
    "        else:\n",
    "            return x + 3\"\"\"\n",
    "replace = \"\"\"    def bar(self, x):\n",
    "        if x > 10:\n",
    "            return x + 2\n",
    "        else:\n",
    "            return x + 3\n",
    "            # Extra comment\"\"\"\n",
    "fuzzy_match(search, replace, file_content)\n"
   ]
  },
  {
   "cell_type": "code",
   "execution_count": 30,
   "metadata": {},
   "outputs": [
    {
     "name": "stdout",
     "output_type": "stream",
     "text": [
      "Fuzzy match success: True\n",
      "\n",
      "class Foo:\n",
      "    def foo(self, x):\n",
      "        return x + 1\n",
      "    \n",
      "    def bar(self, x):\n",
      "        if x >= 10:  # Changed comparison\n",
      "            return x + 2.0  # Added decimal\n",
      "        else:\n",
      "            return x + 3\n",
      "\n"
     ]
    }
   ],
   "source": [
    "\n",
    "# Test case 5: Fuzzy matching with similar but not identical code\n",
    "search = \"\"\"    def bar(self, x):\n",
    "        if x > 10:\n",
    "            return x + 2\n",
    "        else:\n",
    "            return x + 3\"\"\"\n",
    "replace = \"\"\"    def bar(self, x):\n",
    "        if x >= 10:  # Changed comparison\n",
    "            return x + 2.0  # Added decimal\n",
    "        else:\n",
    "            return x + 3\"\"\"\n",
    "fuzzy_match(search, replace, file_content)"
   ]
  }
 ],
 "metadata": {
  "kernelspec": {
   "display_name": "Python 3",
   "language": "python",
   "name": "python3"
  },
  "language_info": {
   "codemirror_mode": {
    "name": "ipython",
    "version": 3
   },
   "file_extension": ".py",
   "mimetype": "text/x-python",
   "name": "python",
   "nbconvert_exporter": "python",
   "pygments_lexer": "ipython3",
   "version": "3.10.16"
  }
 },
 "nbformat": 4,
 "nbformat_minor": 2
}
